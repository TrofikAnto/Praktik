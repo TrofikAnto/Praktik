{
  "metadata": {
    "kernelspec": {
      "name": "python",
      "display_name": "Python (Pyodide)",
      "language": "python"
    },
    "language_info": {
      "codemirror_mode": {
        "name": "python",
        "version": 3
      },
      "file_extension": ".py",
      "mimetype": "text/x-python",
      "name": "python",
      "nbconvert_exporter": "python",
      "pygments_lexer": "ipython3",
      "version": "3.8"
    }
  },
  "nbformat_minor": 4,
  "nbformat": 4,
  "cells": [
    {
      "cell_type": "code",
      "source": "import pandas as pd\n\n# List1\nlst = [['tom', 'reacer', 25], ['krish', 'pete', 30], ['nick', 'witson', 26], ['juli', 'williams', 22]]\n\ndf = pd.DataFrame(lst, columns =['FName', 'LName', 'Age'], dtype = float)\nprint(df)",
      "metadata": {
        "trusted": true
      },
      "outputs": [
        {
          "name": "stderr",
          "text": "<ipython-input-12-628680853817>:6: FutureWarning: Could not cast to float64, falling back to object. This behavior is deprecated. In a future version, when a dtype is passed to 'DataFrame', either all columns will be cast to that dtype, or a TypeError will be raised.\n  df = pd.DataFrame(lst, columns =['FName', 'LName', 'Age'], dtype = float)\n",
          "output_type": "stream"
        },
        {
          "name": "stdout",
          "text": "   FName     LName   Age\n0    tom    reacer  25.0\n1  krish      pete  30.0\n2   nick    witson  26.0\n3   juli  williams  22.0\n",
          "output_type": "stream"
        }
      ],
      "execution_count": 12
    },
    {
      "cell_type": "code",
      "source": "# importing pandas\nimport pandas as pd\n\n# lis of dicts\ninput_df = [{'name':'Sujeet','age':10},\n           {'name':'Sameer','age':11},\n           {'name':'Sumir','age':12}]\n\ndf = pd.DataFrame(input_df)\nprint('Original DataFrame:\\n', df)\n\nprint('\\nRows iterated using iterrows():')\nfor index, row in df.iterrows():\n    print(row['name'], row['age'])",
      "metadata": {
        "trusted": true
      },
      "outputs": [
        {
          "name": "stdout",
          "text": "Original DataFrame:\n      name  age\n0  Sujeet   10\n1  Sameer   11\n2   Sumir   12\n\nRows iterated using iterrows():\nSujeet 10\nSameer 11\nSumir 12\n",
          "output_type": "stream"
        }
      ],
      "execution_count": 13
    },
    {
      "cell_type": "code",
      "source": "# importing pandas\nimport pandas as pd\n\n# lis of dicts\ninput_df = [{'name':'Sujeet','age':10},\n           {'name':'Sameer','age':110},\n           {'name':'Sumir','age':120}]\n\ndf = pd.DataFrame(input_df)\nprint('Original DataFrame:\\n', df)\n\nprint('\\nRows iterated using itertuples():')\nfor row in df.itertuples():\n    print(getattr(row,'name'), getattr(row,'age'))",
      "metadata": {
        "trusted": true
      },
      "outputs": [
        {
          "name": "stdout",
          "text": "Original DataFrame:\n      name  age\n0  Sujeet   10\n1  Sameer  110\n2   Sumir  120\n\nRows iterated using itertuples():\nSujeet 10\nSameer 110\nSumir 120\n",
          "output_type": "stream"
        }
      ],
      "execution_count": 14
    },
    {
      "cell_type": "code",
      "source": "# Import pandas package\nimport pandas as pd\n\n# define a dictionary containing employee data\ndata = {'Name':['Jai','Princi','Gaurav','Anuj'],\n       'Age':[27, 24, 22, 32],\n       'Address':['Delhi', 'Kampur', 'Allahadad', 'Kannauj'],\n       'Qualification':['Msc', 'MA', 'MCA', 'Phd']}\n\n# Convert the dictionary into DataFrame\ndf = pd.DataFrame(data)\n\n# select three rows and tho columns\nprint(df.loc[1:3,['Name', 'Qualification']])",
      "metadata": {
        "trusted": true
      },
      "outputs": [
        {
          "name": "stdout",
          "text": "     Name Qualification\n1  Princi            MA\n2  Gaurav           MCA\n3    Anuj           Phd\n",
          "output_type": "stream"
        }
      ],
      "execution_count": 4
    },
    {
      "cell_type": "code",
      "source": "# Import pandas package\nimport pandas as pd\n\n# define a dictionary containing employee data\ndata = {'Name':['Jai','Princi','Gaurav','Anuj'],\n       'Age':[27, 24, 22, 32],\n       'Address':['Delhi', 'Kampur', 'Allahadad', 'Kannauj'],\n       'Qualification':['Msc', 'MA', 'MCA', 'Phd']}\n\n# Convert the dictionary into DataFrame\ndf = pd.DataFrame(data)\n\n# .loc DataFrame method\n# filtering rows and selecting columns by label format\n# df.loc[rows, columns]\n# row l, all columns\nprint(df.loc[0, :])",
      "metadata": {
        "trusted": true
      },
      "outputs": [
        {
          "name": "stdout",
          "text": "Name               Jai\nAge                 27\nAddress          Delhi\nQualification      Msc\nName: 0, dtype: object\n",
          "output_type": "stream"
        }
      ],
      "execution_count": 7
    },
    {
      "cell_type": "code",
      "source": "",
      "metadata": {
        "trusted": true
      },
      "outputs": [],
      "execution_count": null
    }
  ]
}